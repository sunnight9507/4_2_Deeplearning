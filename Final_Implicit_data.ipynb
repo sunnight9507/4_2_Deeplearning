{
 "cells": [
  {
   "cell_type": "code",
   "execution_count": 1,
   "metadata": {},
   "outputs": [],
   "source": [
    "import pandas as pd\n",
    "import numpy as np\n",
    "import os.path\n",
    "import csv\n",
    "import operator"
   ]
  },
  {
   "cell_type": "code",
   "execution_count": 2,
   "metadata": {},
   "outputs": [],
   "source": [
    "# 영화 300개 자료 저장\n",
    "# User 수는 1000명\n",
    "data = {}\n",
    "movie_id = 0\n",
    "user_name = 0\n",
    "rating = 0\n",
    "user_list = []\n",
    "\n",
    "\n",
    "with open('combined_data_1.txt', 'r') as f:\n",
    "    for line in f:\n",
    "        if(line.find(\":\") != -1):\n",
    "            continue\n",
    "        line_split = line.split(',')\n",
    "        user_name = int(line_split[0])\n",
    "        if user_name in user_list:\n",
    "            continue\n",
    "        else:\n",
    "            user_list.append(user_name)\n",
    "        if len(user_list) > 1000:\n",
    "            break\n",
    "\n",
    "with open('combined_data_1.txt', 'r') as f:\n",
    "    for line in f:\n",
    "        if(line.find(\":\") != -1):\n",
    "            movie_id = int(line.replace(\":\",\"\")) - 1\n",
    "            if(movie_id >= 300): break\n",
    "            data[movie_id] = {}\n",
    "        else:\n",
    "            line_split = line.split(',')\n",
    "            user_name = int(line_split[0])\n",
    "            rating = int(line_split[1])\n",
    "            if user_name in user_list:\n",
    "                data[movie_id][user_name] = rating"
   ]
  },
  {
   "cell_type": "markdown",
   "metadata": {},
   "source": [
    "#### Explicit Feedback data X"
   ]
  },
  {
   "cell_type": "code",
   "execution_count": 63,
   "metadata": {},
   "outputs": [
    {
     "data": {
      "text/plain": [
       "array([[3., 0., 0., ..., 0., 3., 0.],\n",
       "       [5., 0., 0., ..., 0., 0., 0.],\n",
       "       [4., 0., 0., ..., 0., 0., 0.],\n",
       "       ...,\n",
       "       [0., 0., 4., ..., 0., 0., 0.],\n",
       "       [0., 0., 5., ..., 0., 0., 0.],\n",
       "       [0., 0., 3., ..., 0., 0., 0.]])"
      ]
     },
     "execution_count": 63,
     "metadata": {},
     "output_type": "execute_result"
    }
   ],
   "source": [
    "matrix = np.zeros((1000,300))\n",
    "\n",
    "for i in range(1000):\n",
    "    for j in range(300):\n",
    "        if(user_list[i] in data[j]):\n",
    "            matrix[i][j] = data[j][user_list[i]]\n",
    "        \n",
    "X = np.array(matrix)\n",
    "\n",
    "X"
   ]
  },
  {
   "cell_type": "code",
   "execution_count": 64,
   "metadata": {},
   "outputs": [],
   "source": [
    "# alpha, r_lambda 값은 증가할수록 predic_error 증가\n",
    "\n",
    "# 정규화에 필요한 lambda\n",
    "r_lambda = 10\n",
    "# Latent Factor 행렬의 차원\n",
    "nf_ = [i for i in range(100,150,30)]\n",
    "# confidenc level 조정에 필요한 alpha\n",
    "alpha = 10\n",
    "\n",
    "# 초기화\n",
    "num_of_user = X.shape[0]\n",
    "num_of_item = X.shape[1]"
   ]
  },
  {
   "attachments": {
    "image.png": {
     "image/png": "[encoded data removed]"
    }
   },
   "cell_type": "markdown",
   "metadata": {},
   "source": [
    "### 선호도 행렬 P\n",
    "\n",
    "![image.png](attachment:image.png)"
   ]
  },
  {
   "cell_type": "code",
   "execution_count": 65,
   "metadata": {},
   "outputs": [
    {
     "name": "stdout",
     "output_type": "stream",
     "text": [
      "[[1. 0. 0. ... 0. 1. 0.]\n",
      " [1. 0. 0. ... 0. 0. 0.]\n",
      " [1. 0. 0. ... 0. 0. 0.]\n",
      " ...\n",
      " [0. 0. 1. ... 0. 0. 0.]\n",
      " [0. 0. 1. ... 0. 0. 0.]\n",
      " [0. 0. 1. ... 0. 0. 0.]]\n"
     ]
    }
   ],
   "source": [
    "P = np.copy(X)\n",
    "P[P > 0] = 1\n",
    "print(P)"
   ]
  },
  {
   "attachments": {
    "image.png": {
     "image/png": "[encoded data removed]"
    }
   },
   "cell_type": "markdown",
   "metadata": {},
   "source": [
    "### 신뢰도 행렬 C\n",
    "\n",
    "![image.png](attachment:image.png)"
   ]
  },
  {
   "cell_type": "code",
   "execution_count": 66,
   "metadata": {},
   "outputs": [
    {
     "name": "stdout",
     "output_type": "stream",
     "text": [
      "[[31.  1.  1. ...  1. 31.  1.]\n",
      " [51.  1.  1. ...  1.  1.  1.]\n",
      " [41.  1.  1. ...  1.  1.  1.]\n",
      " ...\n",
      " [ 1.  1. 41. ...  1.  1.  1.]\n",
      " [ 1.  1. 51. ...  1.  1.  1.]\n",
      " [ 1.  1. 31. ...  1.  1.  1.]]\n",
      "\n"
     ]
    }
   ],
   "source": [
    "C = 1 + alpha * R\n",
    "print(C)\n",
    "print()"
   ]
  },
  {
   "attachments": {
    "image.png": {
     "image/png": "[encoded data removed]"
    }
   },
   "cell_type": "markdown",
   "metadata": {},
   "source": [
    "### Loss Function\n",
    "\n",
    "![image.png](attachment:image.png)"
   ]
  },
  {
   "cell_type": "code",
   "execution_count": 67,
   "metadata": {},
   "outputs": [],
   "source": [
    "def loss_function(C, P, xTy, X, Y, r_lambda):\n",
    "    predict_error = np.square(P - xTy)\n",
    "    confidence_error = np.sum(C * predict_error)\n",
    "    regularization = r_lambda * (np.sum(np.square(X)) + np.sum(np.square(Y)))\n",
    "    total_loss = confidence_error + regularization\n",
    "    return np.sum(predict_error), confidence_error, regularization, total_loss"
   ]
  },
  {
   "attachments": {
    "image.png": {
     "image/png": "[encoded data removed]"
    }
   },
   "cell_type": "markdown",
   "metadata": {},
   "source": [
    "#### Optimize user factors\n",
    "\n",
    "![image.png](attachment:image.png)"
   ]
  },
  {
   "cell_type": "code",
   "execution_count": 68,
   "metadata": {},
   "outputs": [],
   "source": [
    "def optimize_user(X, Y, C, P, nu, nf, r_lambda):\n",
    "    yT = np.transpose(Y)\n",
    "    for u in range(nu):\n",
    "        Cu = np.diag(C[u])\n",
    "        yT_Cu_y = np.matmul(np.matmul(yT, Cu), Y)\n",
    "        lI = np.dot(r_lambda, np.identity(nf))\n",
    "        yT_Cu_pu = np.matmul(np.matmul(yT, Cu), P[u])\n",
    "        X[u] = np.linalg.solve(yT_Cu_y + lI, yT_Cu_pu)"
   ]
  },
  {
   "attachments": {
    "image.png": {
     "image/png": "[encoded data removed]"
    }
   },
   "cell_type": "markdown",
   "metadata": {},
   "source": [
    "#### Optimize item factors\n",
    "\n",
    "![image.png](attachment:image.png)"
   ]
  },
  {
   "cell_type": "code",
   "execution_count": 69,
   "metadata": {},
   "outputs": [],
   "source": [
    "def optimize_item(X, Y, C, P, ni, nf, r_lambda):\n",
    "    xT = np.transpose(X)\n",
    "    for i in range(ni):\n",
    "        Ci = np.diag(C[:, i])\n",
    "        xT_Ci_x = np.matmul(np.matmul(xT, Ci), X)\n",
    "        lI = np.dot(r_lambda, np.identity(nf))\n",
    "        xT_Ci_pi = np.matmul(np.matmul(xT, Ci), P[:, i])\n",
    "        Y[i] = np.linalg.solve(xT_Ci_x + lI, xT_Ci_pi)"
   ]
  },
  {
   "cell_type": "code",
   "execution_count": 70,
   "metadata": {},
   "outputs": [
    {
     "name": "stdout",
     "output_type": "stream",
     "text": [
      "10 100 10\n",
      "\n",
      "----------------step 1----------------\n",
      "----------------step 2----------------\n",
      "----------------step 3----------------\n",
      "----------------step 4----------------\n",
      "----------------step 5----------------\n",
      "----------------step 6----------------\n",
      "----------------step 7----------------\n",
      "----------------step 8----------------\n",
      "----------------step 9----------------\n",
      "----------------step 10----------------\n",
      "----------------step 11----------------\n",
      "----------------step 12----------------\n",
      "----------------step 13----------------\n",
      "----------------step 14----------------\n",
      "----------------step 15----------------\n",
      "predict error: 2835.101356\n",
      "total loss: 22795.391195\n",
      "\n",
      "\n",
      "10 130 10\n",
      "\n",
      "----------------step 1----------------\n",
      "----------------step 2----------------\n",
      "----------------step 3----------------\n",
      "----------------step 4----------------\n",
      "----------------step 5----------------\n",
      "----------------step 6----------------\n",
      "----------------step 7----------------\n",
      "----------------step 8----------------\n",
      "----------------step 9----------------\n",
      "----------------step 10----------------\n",
      "----------------step 11----------------\n",
      "----------------step 12----------------\n",
      "predict error: 2166.695685\n",
      "total loss: 22393.057763\n",
      "\n",
      "\n"
     ]
    }
   ],
   "source": [
    "result = []\n",
    "\n",
    "for nf in nf_:\n",
    "    # Latent Factor Matrix 초기 랜덤값 생성\n",
    "    # X : 유저\n",
    "    # Y : 영화\n",
    "    np.random.seed(100)\n",
    "    X = np.random.rand(num_of_user, nf) * 0.01\n",
    "    Y = np.random.rand(num_of_item, nf) * 0.01\n",
    "\n",
    "    C = 1 + alpha * R\n",
    "    temp_losses = 10000000\n",
    "    \n",
    "    print(r_lambda,nf,alpha)\n",
    "    print()\n",
    "    i = 0\n",
    "    while(True):\n",
    "        i += 1\n",
    "        print('----------------step %d----------------' % i)\n",
    "        if i!=0:   \n",
    "            optimize_user(X, Y, C, P, num_of_user, nf, r_lambda)\n",
    "            optimize_item(X, Y, C, P, num_of_item, nf, r_lambda)\n",
    "            predict = np.matmul(X, np.transpose(Y))\n",
    "            predict_error, confidence_error, regularization, total_loss = loss_function(C, P, predict, X, Y, r_lambda)\n",
    "            \n",
    "            if temp_losses - total_loss < 100 or i == 15:\n",
    "                break\n",
    "\n",
    "        \n",
    "        temp_losses = total_loss\n",
    "\n",
    "    print(\"predict error: %f\" % predict_error)\n",
    "    print(\"total loss: %f\" % total_loss)\n",
    "    print()\n",
    "    print()\n",
    "\n",
    "    result.append([nf,total_loss])"
   ]
  },
  {
   "cell_type": "code",
   "execution_count": 76,
   "metadata": {},
   "outputs": [
    {
     "data": {
      "text/html": [
       "<div>\n",
       "<style scoped>\n",
       "    .dataframe tbody tr th:only-of-type {\n",
       "        vertical-align: middle;\n",
       "    }\n",
       "\n",
       "    .dataframe tbody tr th {\n",
       "        vertical-align: top;\n",
       "    }\n",
       "\n",
       "    .dataframe thead th {\n",
       "        text-align: right;\n",
       "    }\n",
       "</style>\n",
       "<table border=\"1\" class=\"dataframe\">\n",
       "  <thead>\n",
       "    <tr style=\"text-align: right;\">\n",
       "      <th></th>\n",
       "      <th>0</th>\n",
       "      <th>1</th>\n",
       "    </tr>\n",
       "  </thead>\n",
       "  <tbody>\n",
       "    <tr>\n",
       "      <td>9</td>\n",
       "      <td>280</td>\n",
       "      <td>22048.476773</td>\n",
       "    </tr>\n",
       "    <tr>\n",
       "      <td>8</td>\n",
       "      <td>250</td>\n",
       "      <td>22072.836606</td>\n",
       "    </tr>\n",
       "    <tr>\n",
       "      <td>7</td>\n",
       "      <td>220</td>\n",
       "      <td>22133.900851</td>\n",
       "    </tr>\n",
       "    <tr>\n",
       "      <td>6</td>\n",
       "      <td>190</td>\n",
       "      <td>22228.239605</td>\n",
       "    </tr>\n",
       "    <tr>\n",
       "      <td>5</td>\n",
       "      <td>160</td>\n",
       "      <td>22300.821049</td>\n",
       "    </tr>\n",
       "    <tr>\n",
       "      <td>4</td>\n",
       "      <td>130</td>\n",
       "      <td>22393.057763</td>\n",
       "    </tr>\n",
       "    <tr>\n",
       "      <td>3</td>\n",
       "      <td>100</td>\n",
       "      <td>22795.391195</td>\n",
       "    </tr>\n",
       "    <tr>\n",
       "      <td>2</td>\n",
       "      <td>70</td>\n",
       "      <td>24290.844196</td>\n",
       "    </tr>\n",
       "    <tr>\n",
       "      <td>1</td>\n",
       "      <td>40</td>\n",
       "      <td>29446.222137</td>\n",
       "    </tr>\n",
       "    <tr>\n",
       "      <td>0</td>\n",
       "      <td>10</td>\n",
       "      <td>49635.840091</td>\n",
       "    </tr>\n",
       "  </tbody>\n",
       "</table>\n",
       "</div>"
      ],
      "text/plain": [
       "     0             1\n",
       "9  280  22048.476773\n",
       "8  250  22072.836606\n",
       "7  220  22133.900851\n",
       "6  190  22228.239605\n",
       "5  160  22300.821049\n",
       "4  130  22393.057763\n",
       "3  100  22795.391195\n",
       "2   70  24290.844196\n",
       "1   40  29446.222137\n",
       "0   10  49635.840091"
      ]
     },
     "execution_count": 76,
     "metadata": {},
     "output_type": "execute_result"
    }
   ],
   "source": [
    "pd.DataFrame(result).sort_values(by = [1])"
   ]
  },
  {
   "cell_type": "markdown",
   "metadata": {},
   "source": [
    "- 가장 이상적인 초기값\n",
    "    - r_lambda_ = 10\n",
    "    - nf_ = 280\n",
    "    - alpha_ = 10"
   ]
  },
  {
   "cell_type": "markdown",
   "metadata": {},
   "source": [
    "### 최종 모델"
   ]
  },
  {
   "cell_type": "code",
   "execution_count": 82,
   "metadata": {},
   "outputs": [],
   "source": [
    "r_lambda = 10\n",
    "nf_ = 280\n",
    "alpha = 10"
   ]
  },
  {
   "cell_type": "code",
   "execution_count": 83,
   "metadata": {},
   "outputs": [],
   "source": [
    "np.random.seed(100)\n",
    "X = np.random.rand(nu, nf) * 0.01\n",
    "Y = np.random.rand(ni, nf) * 0.01\n",
    "\n",
    "C = 1 + alpha * R"
   ]
  },
  {
   "cell_type": "code",
   "execution_count": 84,
   "metadata": {},
   "outputs": [
    {
     "name": "stdout",
     "output_type": "stream",
     "text": [
      "----------------step 0----------------\n",
      "predict error: 14933.203488\n",
      "confidence error: 484793.006160\n",
      "regularization: 121.465271\n",
      "total loss: 484914.471431\n",
      "----------------step 1----------------\n",
      "predict error: 14206.017239\n",
      "confidence error: 29947.591998\n",
      "regularization: 94462.151316\n",
      "total loss: 124409.743314\n",
      "----------------step 2----------------\n",
      "predict error: 2381.800792\n",
      "confidence error: 3799.041603\n",
      "regularization: 23300.163313\n",
      "total loss: 27099.204916\n",
      "----------------step 3----------------\n",
      "predict error: 2035.072719\n",
      "confidence error: 3002.915225\n",
      "regularization: 20782.382184\n",
      "total loss: 23785.297409\n",
      "----------------step 4----------------\n",
      "predict error: 1967.969583\n",
      "confidence error: 2812.956272\n",
      "regularization: 20170.638134\n",
      "total loss: 22983.594406\n",
      "----------------step 5----------------\n",
      "predict error: 1967.749845\n",
      "confidence error: 2759.002270\n",
      "regularization: 19841.946512\n",
      "total loss: 22600.948782\n",
      "----------------step 6----------------\n",
      "predict error: 1985.429447\n",
      "confidence error: 2748.061551\n",
      "regularization: 19627.190901\n",
      "total loss: 22375.252452\n",
      "----------------step 7----------------\n",
      "predict error: 2006.865593\n",
      "confidence error: 2752.445526\n",
      "regularization: 19474.912659\n",
      "total loss: 22227.358185\n",
      "----------------step 8----------------\n",
      "predict error: 2027.718272\n",
      "confidence error: 2762.379010\n",
      "regularization: 19361.598853\n",
      "total loss: 22123.977863\n",
      "----------------step 9----------------\n",
      "predict error: 2046.706817\n",
      "confidence error: 2774.024746\n",
      "regularization: 19274.452027\n",
      "total loss: 22048.476773\n",
      "----------------step 10----------------\n",
      "predict error: 2063.590111\n",
      "confidence error: 2785.799612\n",
      "regularization: 19205.757193\n",
      "total loss: 21991.556806\n",
      "----------------step 11----------------\n",
      "predict error: 2078.479370\n",
      "confidence error: 2797.049740\n",
      "regularization: 19150.546328\n",
      "total loss: 21947.596068\n",
      "----------------step 12----------------\n",
      "predict error: 2091.590308\n",
      "confidence error: 2807.525841\n",
      "regularization: 19105.466558\n",
      "total loss: 21912.992398\n",
      "----------------step 13----------------\n",
      "predict error: 2103.152719\n",
      "confidence error: 2817.160563\n",
      "regularization: 19068.171958\n",
      "total loss: 21885.332521\n",
      "----------------step 14----------------\n",
      "predict error: 2113.378986\n",
      "confidence error: 2825.968725\n",
      "regularization: 19036.972699\n",
      "total loss: 21862.941425\n",
      "final predict\n",
      "[array([[ 0.9985816 ,  0.1580524 ,  0.14936661, ...,  0.05659301,\n",
      "         0.99596095,  0.04184542],\n",
      "       [ 0.98201238, -0.06307446, -0.08685533, ...,  0.01810665,\n",
      "         0.03132066, -0.00495828],\n",
      "       [ 0.98706301,  0.12433082, -0.0572494 , ...,  0.03070722,\n",
      "         0.04201199, -0.04916417],\n",
      "       ...,\n",
      "       [ 0.00357896,  0.04260758,  0.99503342, ...,  0.01330784,\n",
      "         0.25956486,  0.0222003 ],\n",
      "       [-0.05729388,  0.03799903,  0.98412806, ..., -0.03541294,\n",
      "         0.14417388,  0.0239717 ],\n",
      "       [-0.08214348, -0.07232731,  0.9667421 , ...,  0.13569094,\n",
      "         0.10143213,  0.0083557 ]])]\n"
     ]
    }
   ],
   "source": [
    "predict_errors = []\n",
    "confidence_errors = []\n",
    "regularization_list = []\n",
    "total_losses = []\n",
    "\n",
    "for i in range(15):\n",
    "    if i!=0:   \n",
    "        optimize_user(X, Y, C, P, num_of_user, nf, r_lambda)\n",
    "        optimize_item(X, Y, C, P, num_of_item, nf, r_lambda)\n",
    "    predict = np.matmul(X, np.transpose(Y))\n",
    "    predict_error, confidence_error, regularization, total_loss = loss_function(C, P, predict, X, Y, r_lambda)\n",
    "    \n",
    "    predict_errors.append(predict_error)\n",
    "    confidence_errors.append(confidence_error)\n",
    "    regularization_list.append(regularization)\n",
    "    total_losses.append(total_loss)\n",
    "    \n",
    "    print('----------------step %d----------------' % i)\n",
    "    print(\"predict error: %f\" % predict_error)\n",
    "    print(\"confidence error: %f\" % confidence_error)\n",
    "    print(\"regularization: %f\" % regularization)\n",
    "    print(\"total loss: %f\" % total_loss)\n",
    "    \n",
    "predict = np.matmul(X, np.transpose(Y))\n",
    "print('final predict')\n",
    "print([predict])"
   ]
  },
  {
   "cell_type": "code",
   "execution_count": 85,
   "metadata": {},
   "outputs": [
    {
     "data": {
      "text/plain": [
       "<Figure size 432x288 with 0 Axes>"
      ]
     },
     "metadata": {},
     "output_type": "display_data"
    },
    {
     "data": {
      "image/png": "[encoded data removed]",
      "text/plain": [
       "<Figure size 720x720 with 4 Axes>"
      ]
     },
     "metadata": {
      "needs_background": "light"
     },
     "output_type": "display_data"
    }
   ],
   "source": [
    "from matplotlib import pyplot as plt\n",
    "%matplotlib inline\n",
    "\n",
    "plt.subplots_adjust(wspace=100.0, hspace=20.0)\n",
    "fig = plt.figure()\n",
    "fig.set_figheight(10)\n",
    "fig.set_figwidth(10)\n",
    "predict_error_line = fig.add_subplot(2, 2, 1)\n",
    "confidence_error_line = fig.add_subplot(2, 2, 2)\n",
    "regularization_error_line = fig.add_subplot(2, 2, 3)\n",
    "total_loss_line = fig.add_subplot(2, 2, 4)\n",
    "\n",
    "predict_error_line.set_title(\"Predict Error\") \n",
    "predict_error_line.plot(predict_errors)\n",
    "\n",
    "confidence_error_line.set_title(\"Confidence Error\")\n",
    "confidence_error_line.plot(confidence_errors)\n",
    "\n",
    "regularization_error_line.set_title(\"Regularization\")\n",
    "regularization_error_line.plot(regularization_list)\n",
    "\n",
    "total_loss_line.set_title(\"Total Loss\")\n",
    "total_loss_line.plot(total_losses)\n",
    "plt.show()"
   ]
  }
 ],
 "metadata": {
  "kernelspec": {
   "display_name": "Python 3",
   "language": "python",
   "name": "python3"
  },
  "language_info": {
   "codemirror_mode": {
    "name": "ipython",
    "version": 3
   },
   "file_extension": ".py",
   "mimetype": "text/x-python",
   "name": "python",
   "nbconvert_exporter": "python",
   "pygments_lexer": "ipython3",
   "version": "3.7.4"
  }
 },
 "nbformat": 4,
 "nbformat_minor": 2
}
