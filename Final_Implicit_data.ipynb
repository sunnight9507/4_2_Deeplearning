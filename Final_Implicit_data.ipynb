{
 "cells": [
  {
   "cell_type": "code",
   "execution_count": 1,
   "metadata": {},
   "outputs": [],
   "source": [
    "import pandas as pd\n",
    "import numpy as np\n",
    "import os.path\n",
    "import csv\n",
    "import operator"
   ]
  },
  {
   "cell_type": "code",
   "execution_count": 2,
   "metadata": {},
   "outputs": [],
   "source": [
    "# 영화 300개 자료 저장\n",
    "# User 수는 1000명\n",
    "data = {}\n",
    "movie_id = 0\n",
    "user_name = 0\n",
    "rating = 0\n",
    "user_list = []\n",
    "\n",
    "\n",
    "with open('combined_data_1.txt', 'r') as f:\n",
    "    for line in f:\n",
    "        if(line.find(\":\") != -1):\n",
    "            continue\n",
    "        line_split = line.split(',')\n",
    "        user_name = int(line_split[0])\n",
    "        if user_name in user_list:\n",
    "            continue\n",
    "        else:\n",
    "            user_list.append(user_name)\n",
    "        if len(user_list) > 1000:\n",
    "            break\n",
    "\n",
    "with open('combined_data_1.txt', 'r') as f:\n",
    "    for line in f:\n",
    "        if(line.find(\":\") != -1):\n",
    "            movie_id = int(line.replace(\":\",\"\")) - 1\n",
    "            if(movie_id >= 300): break\n",
    "            data[movie_id] = {}\n",
    "        else:\n",
    "            line_split = line.split(',')\n",
    "            user_name = int(line_split[0])\n",
    "            rating = int(line_split[1])\n",
    "            if user_name in user_list:\n",
    "                data[movie_id][user_name] = rating"
   ]
  },
  {
   "cell_type": "markdown",
   "metadata": {},
   "source": [
    "#### Implicit_data를 만들기 위해서 Rating_data의 내용을 변경\n",
    "- Rating의 값이 있다는 것은 관심있다 라고 가정. Rating이 있는 값 모두 1로 변경\n",
    "\n",
    "- Rating이 없는 값은 관심이 없는 것으로 간주하고 모두 0으로 변경"
   ]
  },
  {
   "cell_type": "code",
   "execution_count": 3,
   "metadata": {},
   "outputs": [],
   "source": [
    "r_lambda = 40\n",
    "nf = 200\n",
    "alpha = 40"
   ]
  },
  {
   "cell_type": "code",
   "execution_count": 13,
   "metadata": {},
   "outputs": [
    {
     "data": {
      "text/plain": [
       "array([[3., 0., 0., ..., 0., 3., 0.],\n",
       "       [5., 0., 0., ..., 0., 0., 0.],\n",
       "       [4., 0., 0., ..., 0., 0., 0.],\n",
       "       ...,\n",
       "       [0., 0., 4., ..., 0., 0., 0.],\n",
       "       [0., 0., 5., ..., 0., 0., 0.],\n",
       "       [0., 0., 3., ..., 0., 0., 0.]])"
      ]
     },
     "execution_count": 13,
     "metadata": {},
     "output_type": "execute_result"
    }
   ],
   "source": [
    "matrix = np.zeros((1000,300))\n",
    "\n",
    "for i in range(1000):\n",
    "    for j in range(300):\n",
    "        if(user_list[i] in data[j]):\n",
    "            matrix[i][j] = data[j][user_list[i]]\n",
    "        \n",
    "R = np.array(matrix)\n",
    "\n",
    "R"
   ]
  },
  {
   "cell_type": "code",
   "execution_count": 14,
   "metadata": {},
   "outputs": [
    {
     "name": "stdout",
     "output_type": "stream",
     "text": [
      "[[6.14193510e-03 2.43284081e-05 7.06951738e-03 ... 4.16492001e-03\n",
      "  5.62570745e-03 3.64816843e-04]\n",
      " [3.63279965e-03 7.00735762e-03 3.34715694e-03 ... 9.20516939e-03\n",
      "  2.21059288e-03 5.62069129e-03]\n",
      " [9.91290748e-04 1.15255237e-03 6.58139468e-03 ... 5.81835981e-03\n",
      "  7.62367780e-03 3.11635007e-03]\n",
      " ...\n",
      " [9.33165832e-04 4.86533550e-03 9.88848136e-03 ... 3.54549704e-04\n",
      "  1.71418977e-03 7.23999179e-03]\n",
      " [3.25297203e-03 5.18407234e-03 2.57004027e-03 ... 5.98667818e-04\n",
      "  6.23847667e-03 2.40932534e-03]\n",
      " [5.31539403e-03 2.37638509e-03 7.97653275e-03 ... 8.25487273e-03\n",
      "  6.58113317e-03 6.82583269e-03]]\n"
     ]
    }
   ],
   "source": [
    "nu = R.shape[0]\n",
    "ni = R.shape[1]\n",
    "\n",
    "# initialize X and Y with very small values\n",
    "X = np.random.rand(nu, nf) * 0.01\n",
    "Y = np.random.rand(ni, nf) * 0.01\n",
    "\n",
    "print(X)"
   ]
  },
  {
   "cell_type": "code",
   "execution_count": 15,
   "metadata": {},
   "outputs": [
    {
     "name": "stdout",
     "output_type": "stream",
     "text": [
      "[[1. 0. 0. ... 0. 1. 0.]\n",
      " [1. 0. 0. ... 0. 0. 0.]\n",
      " [1. 0. 0. ... 0. 0. 0.]\n",
      " ...\n",
      " [0. 0. 1. ... 0. 0. 0.]\n",
      " [0. 0. 1. ... 0. 0. 0.]\n",
      " [0. 0. 1. ... 0. 0. 0.]]\n"
     ]
    }
   ],
   "source": [
    "P = np.copy(R)\n",
    "P[P > 0] = 1\n",
    "print(P)"
   ]
  },
  {
   "cell_type": "code",
   "execution_count": 16,
   "metadata": {},
   "outputs": [
    {
     "name": "stdout",
     "output_type": "stream",
     "text": [
      "[[121.   1.   1. ...   1. 121.   1.]\n",
      " [201.   1.   1. ...   1.   1.   1.]\n",
      " [161.   1.   1. ...   1.   1.   1.]\n",
      " ...\n",
      " [  1.   1. 161. ...   1.   1.   1.]\n",
      " [  1.   1. 201. ...   1.   1.   1.]\n",
      " [  1.   1. 121. ...   1.   1.   1.]]\n"
     ]
    }
   ],
   "source": [
    "C = 1 + alpha * R\n",
    "print(C)"
   ]
  },
  {
   "cell_type": "code",
   "execution_count": 17,
   "metadata": {},
   "outputs": [],
   "source": [
    "def loss_function(C, P, xTy, X, Y, r_lambda):\n",
    "    predict_error = np.square(P - xTy)\n",
    "    confidence_error = np.sum(C * predict_error)\n",
    "    regularization = r_lambda * (np.sum(np.square(X)) + np.sum(np.square(Y)))\n",
    "    total_loss = confidence_error + regularization\n",
    "    return np.sum(predict_error), confidence_error, regularization, total_loss"
   ]
  },
  {
   "cell_type": "code",
   "execution_count": 18,
   "metadata": {},
   "outputs": [],
   "source": [
    "def optimize_user(X, Y, C, P, nu, nf, r_lambda):\n",
    "    yT = np.transpose(Y)\n",
    "    for u in range(nu):\n",
    "        Cu = np.diag(C[u])\n",
    "        yT_Cu_y = np.matmul(np.matmul(yT, Cu), Y)\n",
    "        lI = np.dot(r_lambda, np.identity(nf))\n",
    "        yT_Cu_pu = np.matmul(np.matmul(yT, Cu), P[u])\n",
    "        X[u] = np.linalg.solve(yT_Cu_y + lI, yT_Cu_pu)\n",
    "\n",
    "def optimize_item(X, Y, C, P, ni, nf, r_lambda):\n",
    "    xT = np.transpose(X)\n",
    "    for i in range(ni):\n",
    "        Ci = np.diag(C[:, i])\n",
    "        xT_Ci_x = np.matmul(np.matmul(xT, Ci), X)\n",
    "        lI = np.dot(r_lambda, np.identity(nf))\n",
    "        xT_Ci_pi = np.matmul(np.matmul(xT, Ci), P[:, i])\n",
    "        Y[i] = np.linalg.solve(xT_Ci_x + lI, xT_Ci_pi)"
   ]
  },
  {
   "cell_type": "code",
   "execution_count": 19,
   "metadata": {},
   "outputs": [
    {
     "name": "stdout",
     "output_type": "stream",
     "text": [
      "----------------step 0----------------\n",
      "predict error: 14987.483896\n",
      "confidence error: 1902126.688578\n",
      "regularization: 346.601470\n",
      "total loss: 1902473.290048\n",
      "----------------step 1----------------\n",
      "predict error: 29858.646379\n",
      "confidence error: 92888.902388\n",
      "regularization: 384403.970091\n",
      "total loss: 477292.872478\n",
      "----------------step 2----------------\n",
      "predict error: 8004.386078\n",
      "confidence error: 12980.663014\n",
      "regularization: 81834.043029\n",
      "total loss: 94814.706044\n",
      "----------------step 3----------------\n",
      "predict error: 7943.362883\n",
      "confidence error: 11915.926734\n",
      "regularization: 72533.429388\n",
      "total loss: 84449.356122\n",
      "----------------step 4----------------\n",
      "predict error: 8225.604533\n",
      "confidence error: 11809.791421\n",
      "regularization: 69038.167621\n",
      "total loss: 80847.959041\n",
      "----------------step 5----------------\n",
      "predict error: 8529.252353\n",
      "confidence error: 11900.898674\n",
      "regularization: 66932.837165\n",
      "total loss: 78833.735839\n",
      "----------------step 6----------------\n",
      "predict error: 8805.882614\n",
      "confidence error: 12043.731521\n",
      "regularization: 65487.502138\n",
      "total loss: 77531.233659\n",
      "----------------step 7----------------\n",
      "predict error: 9047.878719\n",
      "confidence error: 12193.971071\n",
      "regularization: 64422.457900\n",
      "total loss: 76616.428971\n",
      "----------------step 8----------------\n",
      "predict error: 9257.968111\n",
      "confidence error: 12337.453023\n",
      "regularization: 63601.028602\n",
      "total loss: 75938.481625\n",
      "----------------step 9----------------\n",
      "predict error: 9440.774943\n",
      "confidence error: 12469.870091\n",
      "regularization: 62947.305431\n",
      "total loss: 75417.175522\n",
      "----------------step 10----------------\n",
      "predict error: 9600.713300\n",
      "confidence error: 12590.462304\n",
      "regularization: 62414.922818\n",
      "total loss: 75005.385123\n",
      "----------------step 11----------------\n",
      "predict error: 9741.520061\n",
      "confidence error: 12699.769256\n",
      "regularization: 61973.599456\n",
      "total loss: 74673.368712\n",
      "----------------step 12----------------\n",
      "predict error: 9866.239012\n",
      "confidence error: 12798.757834\n",
      "regularization: 61602.579822\n",
      "total loss: 74401.337656\n",
      "----------------step 13----------------\n",
      "predict error: 9977.322284\n",
      "confidence error: 12888.474590\n",
      "regularization: 61287.097261\n",
      "total loss: 74175.571851\n",
      "----------------step 14----------------\n",
      "predict error: 10076.747329\n",
      "confidence error: 12969.912187\n",
      "regularization: 61016.322319\n",
      "total loss: 73986.234506\n",
      "final predict\n",
      "[array([[ 9.99696598e-01,  3.88564320e-01,  4.05276162e-01, ...,\n",
      "         1.45849427e-01,  9.98431949e-01,  7.78657476e-02],\n",
      "       [ 9.73649827e-01, -1.21542963e-01, -1.79869975e-01, ...,\n",
      "         3.29772834e-02,  1.13101047e-01, -3.92747054e-03],\n",
      "       [ 9.86812442e-01,  4.76188235e-01, -8.36201637e-02, ...,\n",
      "         4.74466106e-02,  2.00325633e-01,  4.44871021e-04],\n",
      "       ...,\n",
      "       [ 1.16073859e-01,  1.23363584e-01,  9.98783697e-01, ...,\n",
      "         6.47430390e-02,  6.58721760e-01,  2.73106696e-02],\n",
      "       [-3.11836844e-02,  2.71935805e-01,  9.83254127e-01, ...,\n",
      "        -1.17448035e-01,  3.84050157e-01,  6.63844456e-02],\n",
      "       [ 2.38964565e-03,  3.74028709e-02,  9.67863184e-01, ...,\n",
      "         1.65614513e-01,  4.54580077e-01, -1.39657063e-02]])]\n"
     ]
    }
   ],
   "source": [
    "predict_errors = []\n",
    "confidence_errors = []\n",
    "regularization_list = []\n",
    "total_losses = []\n",
    "\n",
    "for i in range(15):\n",
    "    if i!=0:   \n",
    "        optimize_user(X, Y, C, P, nu, nf, r_lambda)\n",
    "        optimize_item(X, Y, C, P, ni, nf, r_lambda)\n",
    "    predict = np.matmul(X, np.transpose(Y))\n",
    "    predict_error, confidence_error, regularization, total_loss = loss_function(C, P, predict, X, Y, r_lambda)\n",
    "    \n",
    "    predict_errors.append(predict_error)\n",
    "    confidence_errors.append(confidence_error)\n",
    "    regularization_list.append(regularization)\n",
    "    total_losses.append(total_loss)\n",
    "    \n",
    "    print('----------------step %d----------------' % i)\n",
    "    print(\"predict error: %f\" % predict_error)\n",
    "    print(\"confidence error: %f\" % confidence_error)\n",
    "    print(\"regularization: %f\" % regularization)\n",
    "    print(\"total loss: %f\" % total_loss)\n",
    "    \n",
    "predict = np.matmul(X, np.transpose(Y))\n",
    "print('final predict')\n",
    "print([predict])"
   ]
  },
  {
   "cell_type": "code",
   "execution_count": 20,
   "metadata": {},
   "outputs": [
    {
     "data": {
      "text/plain": [
       "<Figure size 432x288 with 0 Axes>"
      ]
     },
     "metadata": {},
     "output_type": "display_data"
    },
    {
     "data": {
      "image/png": "[encoded data removed]",
      "text/plain": [
       "<Figure size 720x720 with 4 Axes>"
      ]
     },
     "metadata": {
      "needs_background": "light"
     },
     "output_type": "display_data"
    }
   ],
   "source": [
    "from matplotlib import pyplot as plt\n",
    "%matplotlib inline\n",
    "\n",
    "plt.subplots_adjust(wspace=100.0, hspace=20.0)\n",
    "fig = plt.figure()\n",
    "fig.set_figheight(10)\n",
    "fig.set_figwidth(10)\n",
    "predict_error_line = fig.add_subplot(2, 2, 1)\n",
    "confidence_error_line = fig.add_subplot(2, 2, 2)\n",
    "regularization_error_line = fig.add_subplot(2, 2, 3)\n",
    "total_loss_line = fig.add_subplot(2, 2, 4)\n",
    "\n",
    "predict_error_line.set_title(\"Predict Error\") \n",
    "predict_error_line.plot(predict_errors)\n",
    "\n",
    "confidence_error_line.set_title(\"Confidence Error\")\n",
    "confidence_error_line.plot(confidence_errors)\n",
    "\n",
    "regularization_error_line.set_title(\"Regularization\")\n",
    "regularization_error_line.plot(regularization_list)\n",
    "\n",
    "total_loss_line.set_title(\"Total Loss\")\n",
    "total_loss_line.plot(total_losses)\n",
    "plt.show()"
   ]
  }
 ],
 "metadata": {
  "kernelspec": {
   "display_name": "Python 3",
   "language": "python",
   "name": "python3"
  },
  "language_info": {
   "codemirror_mode": {
    "name": "ipython",
    "version": 3
   },
   "file_extension": ".py",
   "mimetype": "text/x-python",
   "name": "python",
   "nbconvert_exporter": "python",
   "pygments_lexer": "ipython3",
   "version": "3.7.3"
  }
 },
 "nbformat": 4,
 "nbformat_minor": 2
}
