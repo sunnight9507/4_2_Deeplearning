{
 "cells": [
  {
   "cell_type": "markdown",
   "metadata": {},
   "source": [
    "#### 5. Backprogation1\n",
    "- 계산 그래프 : 어떻게 그리는지 확인\n",
    "    - node / edge로 표현\n",
    "    - 순전파 : 왼쪽 -> 오른쪽\n",
    "    - 역전파 : 오른쪽 -> 왼쪽\n",
    "- 국소적 계산 X\n",
    "- 연쇄 법칙(Chain Rule)\n",
    "    - 원리 : 합성 함수의 미분은 합성 함수를 구성하는 각 함수의 미분의 곱으로 나타낼 수 있다.\n",
    "- 역전파\n",
    "    - 덧셈 : 그대로 흘려보냄(순방향 입력 신호의 값 필요 X)\n",
    "    - 곱셈 : 순방향 입력 신호의 값 필요"
   ]
  },
  {
   "cell_type": "code",
   "execution_count": 1,
   "metadata": {},
   "outputs": [],
   "source": [
    "# 덧셈 역전파\n",
    "class AddLayer:\n",
    "    def __init__(self):\n",
    "        pass\n",
    "    \n",
    "    def forward(self, x,y):\n",
    "        out = x+y\n",
    "        return out\n",
    "    \n",
    "    def backward(self, dout):\n",
    "        dx, dy = dout * 1,dout * 1\n",
    "        return dx, dy\n",
    "\n",
    "# 곱셈 역전파\n",
    "class MulLayer:\n",
    "    def __init__(self):\n",
    "        self.x, self,y = None, None\n",
    "    \n",
    "    def forward(self, x, y):\n",
    "        self.x, self.y = x, y\n",
    "        out = x * y\n",
    "        return out\n",
    "    \n",
    "    def backward(self, dout):\n",
    "        # x, y를 바꾼다.\n",
    "        dx = dout * self.y \n",
    "        dy = dout * self.x\n",
    "        return dx, dy"
   ]
  },
  {
   "cell_type": "markdown",
   "metadata": {},
   "source": [
    "#### 5 Backpropagation(2)\n",
    "- Sigmoid\n",
    "    - y = 1 / (1 + exp(-x))\n",
    "    - 역전파 X\n",
    "- 5,6단원 코드 잘 보기\n",
    "- 미분되어가는 과정\n",
    "- Affine Class 잘보기 / 뒤에는 내지 않을 예정\n",
    "- 구조 이해하기\n",
    "- ReLU Class"
   ]
  },
  {
   "cell_type": "code",
   "execution_count": 3,
   "metadata": {},
   "outputs": [],
   "source": [
    "class Relu:\n",
    "    def __init__(self):\n",
    "        self.mask = None\n",
    "    \n",
    "    def forward(self, x):\n",
    "        # boolean 으로 저장\n",
    "        self.mask = (x <= 0)\n",
    "        out = x.copy()\n",
    "        out[self.mask] = 0\n",
    "        \n",
    "        return out\n",
    "    \n",
    "    def backward(self, dout):\n",
    "        dout[self.mask] = 0\n",
    "        dx = dout\n",
    "        \n",
    "        return dx\n",
    "    \n",
    "class Affine:\n",
    "    def __init__(self, w, b):\n",
    "        self.W, self.b, self.x, self.dW, self.db = W, b, None, None, None\n",
    "    \n",
    "    def forward(self, x):\n",
    "        self.x = x\n",
    "        out = np.dot(x, self.W) + self.b\n",
    "        \n",
    "        return out\n",
    "\n",
    "    def backward(self, dout):\n",
    "        dx = np.dot(dout, self.W.T)\n",
    "        self.dW = np.dot(self.x.T, dout)\n",
    "        self.db = np.sum(dout, axis = 0)\n",
    "        \n",
    "        return dx"
   ]
  },
  {
   "cell_type": "markdown",
   "metadata": {},
   "source": [
    "#### 5단원 정리\n",
    "- 계산그래프 그리는 방법\n",
    "- 계산 그래프 상에서 미분하는 방법\n",
    "- ReLU 역전파 구현\n",
    "- Sigmoid X but 미분하는 과정 한번 보기"
   ]
  },
  {
   "cell_type": "markdown",
   "metadata": {},
   "source": [
    "#### 6 Various learning methods 1\n",
    "\n",
    "- 최적화\n",
    "    - NN 학습의 목적 : 손실 함수의 값을 가능한 낮추는 매개변수를 찾는 것\n",
    "    - 매개변수의 기울기(미분)을 이용하여 기울어진 방향으로 매개변수 값을 갱신하는 일을 반복\n",
    "    \n",
    "- SGD\n",
    "    - 장점 : 단순, 대중적\n",
    "    - 단점 : 비등방성(방향에 따라 기울기가 달라지는)함수에서 탐색 경로가 비효율적\n",
    "    - 단점 : 무조건 기울어진 방향으로 진행하는 단순한 방식\n",
    "    \n",
    "- 모멘텀\n",
    "    - 특징 : 속도라는 변수가 추가됨으로써 공이 구르는 듯한 움직임을 보여줌\n",
    "    - SGD 보다 x축으로 빠르게 다가가 지그재그 정도 움직임이 줄어듦\n",
    "\n",
    "- AdaGrad\n",
    "    - "
   ]
  },
  {
   "cell_type": "markdown",
   "metadata": {},
   "source": [
    "6단원\n",
    "- 파라미터 경신하는 방법\n",
    "- 오버피팅 방지하는 방법\n",
    "- 하이퍼파라미터 구하는 방법의 각각의 장단점\n",
    "- SGD가 가장 단순하고 대중적 but 단점 존재\n",
    "- 각 방법이 나온 이유 & 어떤 문제점을 해결하기 위해 나왔는지\n",
    "- 각 방법의 특징, 장단점\n",
    "- 책 & 자료 병행\n",
    "- 오버피팅 방지하는 방법\n",
    "- Regularigation 코드 명확 이해\n",
    "- 드롭아웃 왜 쓰이는지 장점은\n",
    "- 하이퍼파라미터 추출하는 과정\n",
    "\n",
    "7단원\n",
    "- CNN 구조적인 측면에서 진행되는 과정\n",
    "- NN과의 차이점\n",
    "- 합성곱, 풀링 계층이 어떻게 계산 되는지\n",
    "- 패딩, 스트라이드\n",
    "- 연산이 진행되는 과정\n",
    "- 합성곱, 풀링 계층 코드 이해\n",
    "- im2col로 합성곱, 풀링 계층 하는 과정 이해\n",
    "- CNN Class SimpleCovNet 코드 숙지\n",
    "- 층이 깊어질수록 고급 정보가 추출됨 / 층이 왜 깊어지는지\n",
    "- 대표적인 CNN (보너스 점수)\n",
    "\n",
    "8단원\n",
    "- 딥러닝의 의미\n",
    "- 구조가 어떻게 되어있는지\n",
    "- 코드 X\n",
    "- 층을 깊게 했을 때 정확도, 효율성이 올라가는 이유?\n",
    "\n",
    "추천시스템\n",
    "- Precision / Recall\n",
    "-DCG /MAE /RMSE / MA?"
   ]
  },
  {
   "cell_type": "code",
   "execution_count": null,
   "metadata": {},
   "outputs": [],
   "source": []
  }
 ],
 "metadata": {
  "kernelspec": {
   "display_name": "Python 3",
   "language": "python",
   "name": "python3"
  },
  "language_info": {
   "codemirror_mode": {
    "name": "ipython",
    "version": 3
   },
   "file_extension": ".py",
   "mimetype": "text/x-python",
   "name": "python",
   "nbconvert_exporter": "python",
   "pygments_lexer": "ipython3",
   "version": "3.7.4"
  }
 },
 "nbformat": 4,
 "nbformat_minor": 2
}
