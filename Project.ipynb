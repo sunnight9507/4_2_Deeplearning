{
 "cells": [
  {
   "cell_type": "code",
   "execution_count": 1,
   "metadata": {},
   "outputs": [],
   "source": [
    "import pandas as pd\n",
    "import numpy as np"
   ]
  },
  {
   "cell_type": "code",
   "execution_count": 2,
   "metadata": {},
   "outputs": [],
   "source": [
    "BX_Book_Ratings = pd.read_csv('BX-Book-Ratings.csv',encoding = 'cp437',sep = ';')\n",
    "\n",
    "#BX_Books = pd.read_csv('BX-Books.csv',encoding = 'cp437',sep = ';')\n",
    "\n",
    "#BX_Users = pd.read_csv('BX-Users.csv',encoding = 'cp437',sep = ';')"
   ]
  },
  {
   "cell_type": "code",
   "execution_count": 3,
   "metadata": {},
   "outputs": [
    {
     "name": "stdout",
     "output_type": "stream",
     "text": [
      "(1149780, 3)\n"
     ]
    },
    {
     "data": {
      "text/html": [
       "<div>\n",
       "<style scoped>\n",
       "    .dataframe tbody tr th:only-of-type {\n",
       "        vertical-align: middle;\n",
       "    }\n",
       "\n",
       "    .dataframe tbody tr th {\n",
       "        vertical-align: top;\n",
       "    }\n",
       "\n",
       "    .dataframe thead th {\n",
       "        text-align: right;\n",
       "    }\n",
       "</style>\n",
       "<table border=\"1\" class=\"dataframe\">\n",
       "  <thead>\n",
       "    <tr style=\"text-align: right;\">\n",
       "      <th></th>\n",
       "      <th>User-ID</th>\n",
       "      <th>ISBN</th>\n",
       "      <th>Book-Rating</th>\n",
       "    </tr>\n",
       "  </thead>\n",
       "  <tbody>\n",
       "    <tr>\n",
       "      <th>0</th>\n",
       "      <td>276725</td>\n",
       "      <td>034545104X</td>\n",
       "      <td>0</td>\n",
       "    </tr>\n",
       "    <tr>\n",
       "      <th>1</th>\n",
       "      <td>276726</td>\n",
       "      <td>0155061224</td>\n",
       "      <td>5</td>\n",
       "    </tr>\n",
       "    <tr>\n",
       "      <th>2</th>\n",
       "      <td>276727</td>\n",
       "      <td>0446520802</td>\n",
       "      <td>0</td>\n",
       "    </tr>\n",
       "    <tr>\n",
       "      <th>3</th>\n",
       "      <td>276729</td>\n",
       "      <td>052165615X</td>\n",
       "      <td>3</td>\n",
       "    </tr>\n",
       "    <tr>\n",
       "      <th>4</th>\n",
       "      <td>276729</td>\n",
       "      <td>0521795028</td>\n",
       "      <td>6</td>\n",
       "    </tr>\n",
       "  </tbody>\n",
       "</table>\n",
       "</div>"
      ],
      "text/plain": [
       "   User-ID        ISBN  Book-Rating\n",
       "0   276725  034545104X            0\n",
       "1   276726  0155061224            5\n",
       "2   276727  0446520802            0\n",
       "3   276729  052165615X            3\n",
       "4   276729  0521795028            6"
      ]
     },
     "execution_count": 3,
     "metadata": {},
     "output_type": "execute_result"
    }
   ],
   "source": [
    "print(BX_Book_Ratings.shape)\n",
    "BX_Book_Ratings.head()"
   ]
  },
  {
   "cell_type": "code",
   "execution_count": 4,
   "metadata": {},
   "outputs": [
    {
     "data": {
      "text/plain": [
       "User-ID        0\n",
       "ISBN           0\n",
       "Book-Rating    0\n",
       "dtype: int64"
      ]
     },
     "execution_count": 4,
     "metadata": {},
     "output_type": "execute_result"
    }
   ],
   "source": [
    "# NULL값이 없는 것 확인\n",
    "BX_Book_Ratings.isnull().sum()"
   ]
  },
  {
   "cell_type": "code",
   "execution_count": 5,
   "metadata": {
    "scrolled": true
   },
   "outputs": [
    {
     "name": "stdout",
     "output_type": "stream",
     "text": [
      "105283\n",
      "340556\n"
     ]
    }
   ],
   "source": [
    "# ID 개수, 책 개수\n",
    "print(BX_Book_Ratings['User-ID'].nunique())\n",
    "print(BX_Book_Ratings['ISBN'].nunique())"
   ]
  },
  {
   "cell_type": "code",
   "execution_count": 6,
   "metadata": {},
   "outputs": [
    {
     "data": {
      "text/plain": [
       "340556"
      ]
     },
     "execution_count": 6,
     "metadata": {},
     "output_type": "execute_result"
    }
   ],
   "source": [
    "BX_Book_Ratings['ISBN'].nunique()"
   ]
  },
  {
   "cell_type": "code",
   "execution_count": 8,
   "metadata": {},
   "outputs": [],
   "source": [
    "def Euclidean_Distance(data, ID1, ID2):\n",
    "    def EUC(data):    \n",
    "        # 두 개의 rating의 차\n",
    "        return data.iloc[0] - data.iloc[1]\n",
    "        \n",
    "    # 비교하고 싶은 두 User의 데이터\n",
    "    combine = data[(data['User-ID'] == ID1) | (data['User-ID'] == ID2)]\n",
    "    \n",
    "    # User별 책에대한 Rating\n",
    "    result_data = pd.pivot_table(combine, index = 'User-ID',columns = 'ISBN', values = 'Book-Rating')\n",
    "    \n",
    "    # 두 개의 ID의 책 Rating이 하나라도 nan이면 제거\n",
    "    distance = result_data.apply(EUC).dropna(how = 'any')\n",
    "    \n",
    "    #print(distance)\n",
    "    \n",
    "    # 각 rating의 차를 제곱해 sum한 값의 제곱근을 return\n",
    "    return pow((np.array(distance)**2).sum(),1/2)"
   ]
  },
  {
   "cell_type": "code",
   "execution_count": 9,
   "metadata": {},
   "outputs": [
    {
     "data": {
      "text/plain": [
       "68.78226515607058"
      ]
     },
     "execution_count": 9,
     "metadata": {},
     "output_type": "execute_result"
    }
   ],
   "source": [
    "# 원하는 ID 2개를 입력하면 Euclidean_Distance가 나온다.\n",
    "Euclidean_Distance(BX_Book_Ratings, 242106, 11676)"
   ]
  },
  {
   "cell_type": "code",
   "execution_count": 10,
   "metadata": {},
   "outputs": [
    {
     "data": {
      "text/plain": [
       "0.0"
      ]
     },
     "execution_count": 10,
     "metadata": {},
     "output_type": "execute_result"
    }
   ],
   "source": [
    "# 원하는 ID 2개를 입력하면 Euclidean_Distance가 나온다.\n",
    "Euclidean_Distance(BX_Book_Ratings, 1113, 11676)"
   ]
  },
  {
   "cell_type": "code",
   "execution_count": 11,
   "metadata": {},
   "outputs": [],
   "source": [
    "def Cosine_similarity(data, ID1, ID2):\n",
    "    def COS(data):    \n",
    "        # 두 개의 rating의 곱\n",
    "        return data.iloc[0] * data.iloc[1]\n",
    "        \n",
    "    # 비교하고 싶은 두 User의 데이터\n",
    "    combine = data[(data['User-ID'] == ID1) | (data['User-ID'] == ID2)]\n",
    "    \n",
    "    # User별 책에대한 Rating\n",
    "    result_data = pd.pivot_table(combine, index = 'User-ID',columns = 'ISBN', values = 'Book-Rating')\n",
    "    \n",
    "    # 두 개의 ID의 책 Rating이 하나라도 nan이면 제거\n",
    "    distance = result_data.dropna(how = 'any', axis = 1)\n",
    "    \n",
    "    # 각 ID별 제곱한 값을 합하고 루트 씌워주기\n",
    "    ID_squared_sum = pow((np.array(distance)**2).sum(axis = 1),1/2)\n",
    "    \n",
    "    print(ID_squared_sum.sum())\n",
    "    \n",
    "    # ID별 rating값의 곱의 합\n",
    "    ID_multiply_sum = distance.apply(COS).sum()\n",
    "    \n",
    "    print(ID_multiply_sum)\n",
    "    \n",
    "    # inf값이 나올 때 1,-1로 바꿔줌\n",
    "    if ID_squared_sum.sum():\n",
    "        result = ID_multiply_sum / (ID_squared_sum[0] * ID_squared_sum[1])\n",
    "    else:\n",
    "        if ID_squared_sum[0] and ID_squared_sum[1]:\n",
    "            result = -1\n",
    "        else:\n",
    "            result = 1\n",
    "    \n",
    "    return result"
   ]
  },
  {
   "cell_type": "code",
   "execution_count": 12,
   "metadata": {},
   "outputs": [
    {
     "name": "stdout",
     "output_type": "stream",
     "text": [
      "118.15157175160785\n",
      "1207.0\n"
     ]
    },
    {
     "data": {
      "text/plain": [
       "0.35422934762376884"
      ]
     },
     "execution_count": 12,
     "metadata": {},
     "output_type": "execute_result"
    }
   ],
   "source": [
    "# 원하는 ID 2개를 입력하면 Cosine_similarity 나온다.\n",
    "Cosine_similarity(BX_Book_Ratings, 242106, 11676)"
   ]
  },
  {
   "cell_type": "code",
   "execution_count": 13,
   "metadata": {},
   "outputs": [
    {
     "name": "stdout",
     "output_type": "stream",
     "text": [
      "0.0\n",
      "0.0\n"
     ]
    },
    {
     "data": {
      "text/plain": [
       "1"
      ]
     },
     "execution_count": 13,
     "metadata": {},
     "output_type": "execute_result"
    }
   ],
   "source": [
    "# 원하는 ID 2개를 입력하면 Cosine_similarity 나온다.\n",
    "Cosine_similarity(BX_Book_Ratings, 1113, 11676)"
   ]
  },
  {
   "cell_type": "code",
   "execution_count": 14,
   "metadata": {},
   "outputs": [],
   "source": [
    "def Pearson_Correlation_Coefficient(data, ID1, ID2):\n",
    "    def PCC_subtract(data):    \n",
    "        # 각 ID의 rating값에서 평균 빼주기\n",
    "        return (data - ID_mean)\n",
    "    \n",
    "    def PCC_multiply(data):\n",
    "        # 서로 rating값끼리 곱해주기\n",
    "        return data.iloc[0] * data.iloc[1]\n",
    "        \n",
    "    # 비교하고 싶은 두 User의 데이터\n",
    "    combine = data[(data['User-ID'] == ID1) | (data['User-ID'] == ID2)]\n",
    "    \n",
    "    # User별 책에대한 Rating\n",
    "    result_data = pd.pivot_table(combine, index = 'User-ID',columns = 'ISBN', values = 'Book-Rating')\n",
    "    \n",
    "    # 각 ID별 평균 구하기\n",
    "    ID_mean = result_data.mean(axis = 1)\n",
    "    \n",
    "    print(ID_mean)\n",
    "    \n",
    "    # 두 개의 ID의 책 Rating이 하나라도 nan이면 제거\n",
    "    distance = result_data.dropna(how = 'any', axis = 1)\n",
    "    \n",
    "    # 각 rating에 평균을 빼주고 서로 곱한 값의 합\n",
    "    ID_multiply_sum = distance.apply(PCC_subtract).apply(PCC_multiply).sum()\n",
    "    \n",
    "    print(ID_multiply_sum)\n",
    "    \n",
    "    # 각 ID의 rating 값을 제곱한 값을 합하고 루트 씌워주기\n",
    "    ID_sqrt_squared_sum = pow((np.array(distance.apply(PCC_subtract))**2).sum(axis=1),1/2)\n",
    "    \n",
    "    print(ID_sqrt_squared_sum)\n",
    "    \n",
    "    return ID_multiply_sum / (ID_sqrt_squared_sum[0] * ID_sqrt_squared_sum[1])"
   ]
  },
  {
   "cell_type": "code",
   "execution_count": 15,
   "metadata": {},
   "outputs": [
    {
     "name": "stdout",
     "output_type": "stream",
     "text": [
      "User-ID\n",
      "11676     4.564917\n",
      "242106    1.392505\n",
      "dtype: float64\n",
      "-42.00919664035956\n",
      "[42.5398098  44.73167428]\n"
     ]
    },
    {
     "data": {
      "text/plain": [
       "-0.02207667573628445"
      ]
     },
     "execution_count": 15,
     "metadata": {},
     "output_type": "execute_result"
    }
   ],
   "source": [
    "# 원하는 ID 2개를 입력하면 Cosine_similarity 나온다.\n",
    "Pearson_Correlation_Coefficient(BX_Book_Ratings, 242106, 11676)"
   ]
  },
  {
   "cell_type": "code",
   "execution_count": 16,
   "metadata": {},
   "outputs": [
    {
     "name": "stdout",
     "output_type": "stream",
     "text": [
      "User-ID\n",
      "1113     2.800000\n",
      "11676    4.564917\n",
      "dtype: float64\n",
      "12.78176738714895\n",
      "[2.8        4.56491692]\n"
     ]
    },
    {
     "data": {
      "text/plain": [
       "1.0"
      ]
     },
     "execution_count": 16,
     "metadata": {},
     "output_type": "execute_result"
    }
   ],
   "source": [
    "# 원하는 ID 2개를 입력하면 Cosine_similarity 나온다.\n",
    "Pearson_Correlation_Coefficient(BX_Book_Ratings, 1113, 11676)"
   ]
  },
  {
   "cell_type": "code",
   "execution_count": 17,
   "metadata": {},
   "outputs": [],
   "source": [
    "#BX_Book_Ratings[BX_Book_Ratings['ISBN'] == BX_Book_Ratings['ISBN'][13]]"
   ]
  }
 ],
 "metadata": {
  "kernelspec": {
   "display_name": "Python 3",
   "language": "python",
   "name": "python3"
  },
  "language_info": {
   "codemirror_mode": {
    "name": "ipython",
    "version": 3
   },
   "file_extension": ".py",
   "mimetype": "text/x-python",
   "name": "python",
   "nbconvert_exporter": "python",
   "pygments_lexer": "ipython3",
   "version": "3.7.3"
  }
 },
 "nbformat": 4,
 "nbformat_minor": 2
}
